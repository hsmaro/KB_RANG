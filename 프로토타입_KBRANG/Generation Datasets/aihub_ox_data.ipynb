{
 "cells": [
  {
   "cell_type": "markdown",
   "metadata": {},
   "source": [
    "## aihub의 뉴스톡해 데이터\n",
    "- https://aihub.or.kr/aihubdata/data/view.do?currMenu=115&topMenu=100&aihubDataSe=realm&dataSetSn=577 - 뉴스기사 기계독해 데이터\n",
    "- 017.뉴스기사 기계독해 데이터 -> 01.데이터 -> 1.Training -> 라벨링 데이터 -> TL_text_entailment.zip"
   ]
  },
  {
   "cell_type": "markdown",
   "metadata": {},
   "source": [
    "### Library"
   ]
  },
  {
   "cell_type": "code",
   "execution_count": 1,
   "metadata": {},
   "outputs": [],
   "source": [
    "import os\n",
    "import pandas as pd\n",
    "import numpy as np\n",
    "import json"
   ]
  },
  {
   "cell_type": "markdown",
   "metadata": {},
   "source": [
    "### Data Load"
   ]
  },
  {
   "cell_type": "code",
   "execution_count": null,
   "metadata": {},
   "outputs": [],
   "source": [
    "input_data_path = os.path.join(os.getcwd(), \"base_data\") \n",
    "output_data_path = os.path.join(os.getcwd(), \"data\") # 저장 경로\n",
    "ox_path = os.path.join(input_data_path, \"qa\", \"aihub\", \"TL_text_entailment.json\")"
   ]
  },
  {
   "cell_type": "code",
   "execution_count": null,
   "metadata": {},
   "outputs": [],
   "source": [
    "record_path = ['data', 'paragraphs', 'qas', 'answers'] # 경로상의 key들\n",
    "file = json.loads(open(ox_path).read()) # json파일 열기"
   ]
  },
  {
   "cell_type": "code",
   "execution_count": null,
   "metadata": {},
   "outputs": [],
   "source": [
    "def aihub_ox_train(input_file_path, record_path = ['data', 'paragraphs','qas','answers'], verbose = 1):\n",
    "    \"\"\"\n",
    "    input_file_path: json파일 경로\n",
    "    record_path: json파일의 접근 경로상의 key값들 ['data','paragraphs','qas','answers']\n",
    "    verbose: 0 to suppress it default is 1\n",
    "    \"\"\"\n",
    "    if verbose:\n",
    "        print(\"Reading the json file\")    \n",
    "    file = json.loads(open(input_file_path).read()) # json 파일 열기\n",
    "    if verbose:\n",
    "        print(\"processing...\")\n",
    "\n",
    "    js = pd.io.json.json_normalize(file, record_path[:-1]) # record_path가 qas까지 접근, json파일을 데이터프레임으로 변환\n",
    "    m = pd.io.json.json_normalize(file, record_path[:-2]) # record_path가 paragraphs까지 접근\n",
    "    r = pd.io.json.json_normalize(file,record_path[:-3]) # data - 분류 카테고리 확인을 위해\n",
    "    \n",
    "    idx = np.repeat(r['doc_class.code'].values, m.qas.str.len()) # 개수 파악 - idx\n",
    "    ndx  = np.repeat(m['context'].values,m.qas.str.len()) # 내용만 가져오기\n",
    "    jsdx = js.drop([\"is_impossible\", \"answers.clue_start\", \"answers.clue_text\", \"answers.options\"], axis=1) # 불필요 열 제거\n",
    "    jsdx['context'] = ndx\n",
    "\n",
    "    main = jsdx.set_index('question_id').reset_index() # 인덱스 초기화\n",
    "    main[\"type\"] = idx\n",
    "    main['c_id'] = main['context'].factorize()[0]\n",
    "    if verbose:\n",
    "        print(\"shape of the dataframe is {}\".format(main.shape)) # 데이터 크기 확인\n",
    "        print(\"Done\")\n",
    "    return main"
   ]
  },
  {
   "cell_type": "code",
   "execution_count": null,
   "metadata": {},
   "outputs": [],
   "source": [
    "ox_train = aihub_ox_train(ox_path)\n",
    "ox_train = ox_train[ox_train[\"type\"]==\"경제\"] # 필요한 부분만 가져오기\n",
    "aihub_ox = ox_train[[\"question\", \"context\", \"answers.text\"]].reset_index(drop=True) # 인덱스 재정렬\n",
    "aihub_ox.columns = [\"question\", \"context\", \"answer\"] # column 이름 변경\n",
    "aihub_ox[\"answer\"] = aihub_ox[\"answer\"].replace({\"Yes\":0, \"No\":1}) # 답변 값 변경\n",
    "aihub_ox # 확인"
   ]
  },
  {
   "cell_type": "markdown",
   "metadata": {},
   "source": [
    "### 저장"
   ]
  },
  {
   "cell_type": "code",
   "execution_count": null,
   "metadata": {},
   "outputs": [],
   "source": [
    "aihub_ox.to_csv(os.path.join(output_data_path, \"aihub_ox.csv\"), encoding=\"utf-8\", index=False)"
   ]
  }
 ],
 "metadata": {
  "kernelspec": {
   "display_name": "kb_ai",
   "language": "python",
   "name": "kb_ai"
  },
  "language_info": {
   "codemirror_mode": {
    "name": "ipython",
    "version": 3
   },
   "file_extension": ".py",
   "mimetype": "text/x-python",
   "name": "python",
   "nbconvert_exporter": "python",
   "pygments_lexer": "ipython3",
   "version": "3.9.17"
  },
  "orig_nbformat": 4
 },
 "nbformat": 4,
 "nbformat_minor": 2
}
