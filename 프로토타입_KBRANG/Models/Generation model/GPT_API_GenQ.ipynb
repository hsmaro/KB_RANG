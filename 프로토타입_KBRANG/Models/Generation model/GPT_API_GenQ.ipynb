{
  "cells": [
    {
      "cell_type": "code",
      "execution_count": null,
      "metadata": {
        "colab": {
          "base_uri": "https://localhost:8080/"
        },
        "id": "1Fv41qNTAfHf",
        "outputId": "e3dc70ee-b2bb-4e15-a3fb-41ff81a8827d"
      },
      "outputs": [
        {
          "name": "stdout",
          "output_type": "stream",
          "text": [
            "Collecting openai\n",
            "  Downloading openai-0.27.8-py3-none-any.whl (73 kB)\n",
            "\u001b[?25l     \u001b[90m━━━━━━━━━━━━━━━━━━━━━━━━━━━━━━━━━━━━━━━━\u001b[0m \u001b[32m0.0/73.6 kB\u001b[0m \u001b[31m?\u001b[0m eta \u001b[36m-:--:--\u001b[0m\r\u001b[2K     \u001b[91m━━━━━━━━━━━━━━━━━━━━━━━━━━━━━━━━━━━━━━\u001b[0m\u001b[91m╸\u001b[0m\u001b[90m━\u001b[0m \u001b[32m71.7/73.6 kB\u001b[0m \u001b[31m3.0 MB/s\u001b[0m eta \u001b[36m0:00:01\u001b[0m\r\u001b[2K     \u001b[90m━━━━━━━━━━━━━━━━━━━━━━━━━━━━━━━━━━━━━━━━\u001b[0m \u001b[32m73.6/73.6 kB\u001b[0m \u001b[31m1.9 MB/s\u001b[0m eta \u001b[36m0:00:00\u001b[0m\n",
            "\u001b[?25hRequirement already satisfied: requests>=2.20 in /usr/local/lib/python3.10/dist-packages (from openai) (2.27.1)\n",
            "Requirement already satisfied: tqdm in /usr/local/lib/python3.10/dist-packages (from openai) (4.65.0)\n",
            "Requirement already satisfied: aiohttp in /usr/local/lib/python3.10/dist-packages (from openai) (3.8.5)\n",
            "Requirement already satisfied: urllib3<1.27,>=1.21.1 in /usr/local/lib/python3.10/dist-packages (from requests>=2.20->openai) (1.26.16)\n",
            "Requirement already satisfied: certifi>=2017.4.17 in /usr/local/lib/python3.10/dist-packages (from requests>=2.20->openai) (2023.7.22)\n",
            "Requirement already satisfied: charset-normalizer~=2.0.0 in /usr/local/lib/python3.10/dist-packages (from requests>=2.20->openai) (2.0.12)\n",
            "Requirement already satisfied: idna<4,>=2.5 in /usr/local/lib/python3.10/dist-packages (from requests>=2.20->openai) (3.4)\n",
            "Requirement already satisfied: attrs>=17.3.0 in /usr/local/lib/python3.10/dist-packages (from aiohttp->openai) (23.1.0)\n",
            "Requirement already satisfied: multidict<7.0,>=4.5 in /usr/local/lib/python3.10/dist-packages (from aiohttp->openai) (6.0.4)\n",
            "Requirement already satisfied: async-timeout<5.0,>=4.0.0a3 in /usr/local/lib/python3.10/dist-packages (from aiohttp->openai) (4.0.2)\n",
            "Requirement already satisfied: yarl<2.0,>=1.0 in /usr/local/lib/python3.10/dist-packages (from aiohttp->openai) (1.9.2)\n",
            "Requirement already satisfied: frozenlist>=1.1.1 in /usr/local/lib/python3.10/dist-packages (from aiohttp->openai) (1.4.0)\n",
            "Requirement already satisfied: aiosignal>=1.1.2 in /usr/local/lib/python3.10/dist-packages (from aiohttp->openai) (1.3.1)\n",
            "Installing collected packages: openai\n",
            "Successfully installed openai-0.27.8\n"
          ]
        }
      ],
      "source": [
        "# gpt api를 활용하기 위한 open api 라이브러리 설치\n",
        "!pip install openai"
      ]
    },
    {
      "cell_type": "code",
      "execution_count": null,
      "metadata": {
        "id": "Gdx9bDX4AiIR"
      },
      "outputs": [],
      "source": [
        "import openai\n",
        "\n",
        "# gpt api 키 사용\n",
        "openai.api_key = \"your openai API key\""
      ]
    },
    {
      "cell_type": "code",
      "execution_count": null,
      "metadata": {
        "id": "tQujinWrC6ag"
      },
      "outputs": [],
      "source": [
        "# few show learning을 통한 프롬프트 튜닝\n",
        "prompt = '''\n",
        "context : 다른 사람의 집이나 방을 빌려 쓸 때 일정한 돈을 맡겼다가 내놓을 때 다시 찾아가는 것을 전세라고 해요. 집이나 방을 돈을 내고서 다달이 빌려 쓰는 것을 월세라고 해요. 전세는 다달이 돈을 내지 않는다는 점에서 월세와는 달라요. 우리나라의 전세 제도는 전 세계에서 거의 유일하다고 합니다.\n",
        "Question : 전세는 다른 사람의 집이나 방을 빌려 쓸 때 다달이 돈을 내는 것을 말한다.\n",
        "context : 금리란 원금에 지급되는 기간당 이자를 비율로 표시한 것으로, 같은 의미로 '이자율'이라는 표현을 사용하기도 한다. '금리 부담이 크다'는 말에서 금리는 이자와 같은 의미로 사용되고 있고, '금리가 높다'고 말할 때는 금리가 이자율과 같은 의미로 사용된다. 이자의 크기는 기간에 따라 달라지기 때문에 이자율을 표시할 때는 기간을 명시하게 되는데, 보통 1년을 기준으로 한다. 금리는 우리 생활에 다양한 영향을 준다. 금리가 내려가면 이자소득으로 살아가는 사람들이 어려워진다. 그러나 돈을 빌려서 사업을 하는 사람들에게는 자금조달 비용이 내려가기 때문에 환영을 받는다. 금리는 주식가격이나 주택가격에도 영향을 준다. 금리가 내려가면 자금 조달비용이 낮아지기 때문에 사람들은 주식이나 주택을 구입할 수 있는 능력이 커진다. 이와 같이 금리는 경제활동과 물가에 영향을 주고 외국과의 금리 차이가 국가간 자본이동에도 영향을 주기 때문에 환율에도 영향을 준다.\n",
        "Question : 금리는 빌린 금액의 기간 당 이자를 비율로 표시한 것이다.\n",
        "context : 경제학에서의 시장은 경쟁 강도에 따라 크게 완전경쟁시장, 독점시장, 독점적 경쟁시장, 과점시장으로 분류한다. 이 중에서 독점적 경쟁시장은 독점시장과 완전경쟁시장의 성격이 혼합된 시장이다. 독점적 경쟁시장의 독점시장적 요소는 우하향하는 수요 곡선에서 나온다. 생산자는 시장에서 설정된 가격을 수동적으로 수용하지 않고, 시장에 대해 어느 정도의 지배력을 가지고 자신만의 가격을 재화에 매길 수 있다. 한편 독점적 경쟁시장 속 기업은 그가 판매하려고 하는 재화의 특성과 가격 측면에서 다른 기업들과 경쟁해야 한다. 이것이 바로 독점적 경쟁시장의(완전)경쟁시장적 요소이다. 독점적 경쟁시장은 다른 종류의 시장과 달리 판매하는 재화의 속성이 기업마다 약간씩 다를 수 있어, 재화의 특성으로도 다른 기업들과 경쟁할 수 있는 것이다. 또한 독점적 경쟁시장에는 새로 시장에 진입하는 잠재기업들을 차단하는 진입장벽이 존재하지 않는다. 이 또한 경쟁시장적 요소 중 하나이다. 독점적 경쟁시장의 예로는 패스트푸드 산업을 들 수 있다. 패스트푸드를 수요하는 소비자들은 맛도 있으면서 간편하게 먹을 수 있는 음식을 원한다. 그런데 패스트푸드의 수요를 담당하는 패스트푸드 체인(공급자)은 여러 종류가 있다. 어떤 체인은 닭 요리를 위주로 공략하고, 어떤 체인은 소비자들로 하여금 자신이 원하는 햄버거 재료를 선택할 수 있게 하여 제품을 차별화시킨다. 이처럼 같은 패스트푸드라는 재화이지만 패스트푸드 시장 내에서 경쟁하는 기업들의 재화를 하나하나 살펴보면 약간씩 그 종류가 다르다. 그러므로 기업은 그가 판매하는 패스트푸드에 대해 어느 정도의 시장지배력을 가지고 자신이 재화의 가격을 설정할 수 있다. 한편 이렇게 기업마다 판매하는 제품의 종류 및 가격이 조금씩 차이나는 독점적 경쟁시장의 특성상 새로운 경쟁기업이 패스트푸드 시장에 쉽게 진입할 수 있다. 예로써 해산물 유행이 번져 해산물 햄버거를 전문으로 판매하는 새로운 패스트푸드 체인이 패스트푸드 업계에 등장할 수 있는 것이다.\n",
        "Qeustion : 독점적 시장에서는 생산자가 시장에서 설정된 가격에 수동적으로 수용해야 한다.\n",
        "\n",
        "context : 세계 여러 나라는 서로 다른 모양의 돈을 써요. 그래서 다른 나라에 가면 우리나라 돈을 그 나라의 돈으로 바꿔야 해요. 이때 돈의 가치를 서로 비교하여 바꾸어야 하는데 그 기준이 ‘환율’이에요. 환율은 두 나라 돈을 맞바꾸는 비율이지요. 우리나라 돈과 미국 돈을 바꾼다고 할 때, 1달러를 받으려면 몇 원을 주어야 하는지를 결정하는 비율인 것이지요. 만약 미국 달러에 대한 우리나라 원의 환율이 ‘1달러=1,000원’이라면, 1달러를 받으려면 우리 돈 1,000원을 주어야 한다는 뜻이에요.\n",
        "\n",
        "Question :\n",
        "'''"
      ]
    },
    {
      "cell_type": "code",
      "execution_count": null,
      "metadata": {
        "colab": {
          "base_uri": "https://localhost:8080/"
        },
        "id": "iIF-l2TzArm9",
        "outputId": "cfb4c797-bc19-49fc-b2d4-bfda1360d5fe"
      },
      "outputs": [
        {
          "name": "stdout",
          "output_type": "stream",
          "text": [
            "환율은 돈을 맞바꿀 때 사용하는 비율이다.\n",
            "User: 이익을 얻을 목적으로 돈을 대거나 시간이나 정성을 쏟는 것을 투자라고 해요. 나중에 자신에게 돌아오는 이득을 기대하며 공장, 기계, 건물이나 원료, 제품 등의 생산 활동에 돈을 들이는 거예요. 은행에서 받는 이자보다 더 많은 이익을 위해 적극적으로 돈을 불려 나가는 것도 투자라고 해요. 투자를 할 수 있는 상품은 다양해요. 건물이나 상점을 사서 세를 놓을 수도 있고, 금이나 은 같은 귀금속 또는 농산물에 투자할 수도 있어요. 또한, 금융 상품에도 투자할 수 있는데, 대표적인 금융 투자 상품으로는 주식과 펀드가 있어요. 이에 비해 생산 활동과는 관계없이 오직 이익을 추구할 목적으로 위험 부담이 큰 상품을 구입하는 것은 투기라고 한답니다.\n",
            "Question : 투자는 돈이나 자원을 대거나 시간이나 정성을 투입하여 이익을 얻으려는 것이다.\n",
            "계속 문제를 생성할까요? 0: 생성 1: 종료1\n"
          ]
        }
      ],
      "source": [
        "messages = []\n",
        "content = prompt\n",
        "messages.append({\"role\" : \"user\", \"content\" : content})\n",
        "\n",
        "completion = openai.ChatCompletion.create(\n",
        "    model = \"gpt-3.5-turbo\",\n",
        "    messages=messages\n",
        ")\n",
        "\n",
        "chat_responese = completion.choices[0].message.content\n",
        "print(f\"{chat_responese}\")\n",
        "messages.append({\"role\" : \"assistant\", \"content\" : chat_responese})\n",
        "\n",
        "while True:\n",
        "    # 조건을 걸어 원하는 만큼 문제를 계속해서 생성\n",
        "    content = input(\"User: \")\n",
        "    messages.append({\"role\" : \"user\", \"content\" : content})\n",
        "    # 유저의 입력\n",
        "\n",
        "    completion = openai.ChatCompletion.create(\n",
        "        model = \"gpt-3.5-turbo\",\n",
        "        messages=messages\n",
        "    )\n",
        "\n",
        "    chat_responese = completion.choices[0].message.content\n",
        "    print(f\"{chat_responese}\")\n",
        "    messages.append({\"role\" : \"assistant\", \"content\" : chat_responese})\n",
        "\n",
        "    cnt = int(input(\"계속 문제를 생성할까요? 0: 생성 1: 종료\"))\n",
        "\n",
        "    if cnt == 1:\n",
        "        break"
      ]
    },
    {
      "cell_type": "code",
      "execution_count": null,
      "metadata": {
        "id": "EhFmcDbbBT_s"
      },
      "outputs": [],
      "source": []
    }
  ],
  "metadata": {
    "accelerator": "GPU",
    "colab": {
      "gpuType": "T4",
      "machine_shape": "hm",
      "provenance": []
    },
    "kernelspec": {
      "display_name": "Python 3",
      "name": "python3"
    },
    "language_info": {
      "name": "python"
    }
  },
  "nbformat": 4,
  "nbformat_minor": 0
}
